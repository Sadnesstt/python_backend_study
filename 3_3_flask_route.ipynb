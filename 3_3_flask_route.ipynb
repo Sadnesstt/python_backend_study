{
 "cells": [
  {
   "cell_type": "markdown",
   "metadata": {},
   "source": [
    "%d : int\n",
    "\n",
    "%f : float\n",
    "\n",
    "%s : string"
   ]
  },
  {
   "cell_type": "code",
   "execution_count": 5,
   "metadata": {},
   "outputs": [
    {
     "name": "stdout",
     "output_type": "stream",
     "text": [
      " * Serving Flask app \"__main__\" (lazy loading)\n",
      " * Environment: production\n",
      "   WARNING: This is a development server. Do not use it in a production deployment.\n",
      "   Use a production WSGI server instead.\n",
      " * Debug mode: off\n"
     ]
    },
    {
     "name": "stderr",
     "output_type": "stream",
     "text": [
      " * Running on http://127.0.0.1:8080/ (Press CTRL+C to quit)\n",
      "127.0.0.1 - - [05/Dec/2020 20:55:31] \"\u001b[37mGET / HTTP/1.1\u001b[0m\" 200 -\n",
      "127.0.0.1 - - [05/Dec/2020 20:55:37] \"\u001b[37mGET /message/iamsorry HTTP/1.1\u001b[0m\" 200 -\n",
      "127.0.0.1 - - [05/Dec/2020 20:55:58] \"\u001b[37mGET /first/5 HTTP/1.1\u001b[0m\" 200 -\n"
     ]
    }
   ],
   "source": [
    "from flask import Flask\n",
    "\n",
    "app = Flask(__name__)\n",
    "\n",
    "def add_file(data):\n",
    "    return data + 5\n",
    "\n",
    "@app.route('/')\n",
    "def hello():\n",
    "    return \"<h1>you can do everything.</h1>\"\n",
    "\n",
    "@app.route('/message/<string:message_id>')\n",
    "def get_message(message_id):\n",
    "    return \"<h3>message_id: %s</h3>\" % message_id # message_id에도 h3가 적용됨.\n",
    "\n",
    "@app.route('/first/<int:message_id>')\n",
    "def get_first(message_id):\n",
    "    data = add_file(message_id)\n",
    "    return \"<h1>%d</h1>\" % data\n",
    "\n",
    "if __name__ == \"__main__\":\n",
    "    app.run(host=\"127.0.0.1\", port = \"8080\")"
   ]
  }
 ],
 "metadata": {
  "kernelspec": {
   "display_name": "ml_scratch",
   "language": "python",
   "name": "ml_scratch"
  },
  "language_info": {
   "codemirror_mode": {
    "name": "ipython",
    "version": 3
   },
   "file_extension": ".py",
   "mimetype": "text/x-python",
   "name": "python",
   "nbconvert_exporter": "python",
   "pygments_lexer": "ipython3",
   "version": "3.6.10"
  }
 },
 "nbformat": 4,
 "nbformat_minor": 4
}
