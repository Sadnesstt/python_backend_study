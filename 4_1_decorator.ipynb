{
 "cells": [
  {
   "cell_type": "code",
   "execution_count": 1,
   "metadata": {},
   "outputs": [],
   "source": [
    "def type_checker(function):\n",
    "    def inner_func(digit1, digit2):\n",
    "        if (type(digit1) != int) or (type(digit2) != int):\n",
    "            print('only integer support')\n",
    "            return\n",
    "        return function(digit1, digit2)\n",
    "    return inner_func"
   ]
  },
  {
   "cell_type": "code",
   "execution_count": 2,
   "metadata": {},
   "outputs": [],
   "source": [
    "@type_checker\n",
    "def multiplyer(digit1, digit2):\n",
    "    digit1 * digit2"
   ]
  },
  {
   "cell_type": "code",
   "execution_count": 3,
   "metadata": {},
   "outputs": [
    {
     "name": "stdout",
     "output_type": "stream",
     "text": [
      "only integer support\n"
     ]
    }
   ],
   "source": [
    "multiplyer(1.1, 2)"
   ]
  },
  {
   "cell_type": "markdown",
   "metadata": {},
   "source": [
    "## 도전과제\n",
    "HTML 웹페이지 태그를 붙여주는 데코레이터 만들기"
   ]
  },
  {
   "cell_type": "code",
   "execution_count": 2,
   "metadata": {},
   "outputs": [
    {
     "data": {
      "text/html": [
       "<b>안녕</b>\n",
       "<i>안녕</i>\n",
       "<i><b>안녕</b></i>\n"
      ],
      "text/plain": [
       "<IPython.core.display.HTML object>"
      ]
     },
     "metadata": {},
     "output_type": "display_data"
    }
   ],
   "source": [
    "%%html\n",
    "<b>안녕</b>\n",
    "<i>안녕</i>\n",
    "<i><b>안녕</b></i>"
   ]
  },
  {
   "cell_type": "code",
   "execution_count": 7,
   "metadata": {},
   "outputs": [],
   "source": [
    "def mark_bold(function):\n",
    "    def wrapper(*args, **kwargs):\n",
    "        return '<b>' + function(*args, **kwargs) + '</b>'\n",
    "    return wrapper\n",
    "\n",
    "def mark_italic(function):\n",
    "    def wrapper(*args, **kwargs):\n",
    "        return '<i>' + function(*args, **kwargs) + '</i>'\n",
    "    return wrapper\n",
    "\n",
    "@mark_bold\n",
    "@mark_italic\n",
    "def add_html(content):\n",
    "    return content"
   ]
  },
  {
   "cell_type": "code",
   "execution_count": 10,
   "metadata": {},
   "outputs": [
    {
     "name": "stdout",
     "output_type": "stream",
     "text": [
      "<b><i>안녕</i></b>\n"
     ]
    }
   ],
   "source": [
    "print(add_html(\"안녕\"))"
   ]
  }
 ],
 "metadata": {
  "kernelspec": {
   "display_name": "ml_scratch",
   "language": "python",
   "name": "ml_scratch"
  },
  "language_info": {
   "codemirror_mode": {
    "name": "ipython",
    "version": 3
   },
   "file_extension": ".py",
   "mimetype": "text/x-python",
   "name": "python",
   "nbconvert_exporter": "python",
   "pygments_lexer": "ipython3",
   "version": "3.6.10"
  }
 },
 "nbformat": 4,
 "nbformat_minor": 4
}
