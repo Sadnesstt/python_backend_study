{
 "cells": [
  {
   "cell_type": "code",
   "execution_count": 11,
   "metadata": {},
   "outputs": [],
   "source": [
    "def index_creator(sep):\n",
    "    def list_creator(list_data):\n",
    "        for item in list_data:\n",
    "            print('{0} {1}'.format(sep, item))\n",
    "    return list_creator"
   ]
  },
  {
   "cell_type": "code",
   "execution_count": 12,
   "metadata": {},
   "outputs": [
    {
     "name": "stdout",
     "output_type": "stream",
     "text": [
      "- 안녕\n",
      "- 하세요\n",
      "* 안녕\n",
      "* 하세요\n",
      "# 안녕\n",
      "# 하세요\n"
     ]
    }
   ],
   "source": [
    "func1 = index_creator(\"-\")\n",
    "func1(['안녕','하세요'])\n",
    "\n",
    "func2 = index_creator(\"*\")\n",
    "func2(['안녕','하세요'])\n",
    "\n",
    "func3 = index_creator(\"#\")\n",
    "func3(['안녕', '하세요'])"
   ]
  },
  {
   "cell_type": "markdown",
   "metadata": {},
   "source": [
    "## 크롤링 도전 과제"
   ]
  },
  {
   "cell_type": "code",
   "execution_count": 15,
   "metadata": {},
   "outputs": [],
   "source": [
    "import requests\n",
    "from bs4 import BeautifulSoup"
   ]
  },
  {
   "cell_type": "code",
   "execution_count": 16,
   "metadata": {},
   "outputs": [
    {
     "name": "stdout",
     "output_type": "stream",
     "text": [
      "- (왕초보) - 클래스 소개\n",
      "- (왕초보) - 블로그 개발 필요한 준비물 준비하기\n",
      "- (왕초보) - Github pages 설정해서 블로그 첫 페이지 만들어보기\n",
      "- (왕초보) - 초간단 페이지 만들어보기\n",
      "- (왕초보) - 이쁘게 테마 적용해보기\n",
      "- (왕초보) - 마크다운 기초 이해하고, 실제 나만의 블로그 페이지 만들기\n",
      "- (왕초보) - 다양한 마크다운 기법 익혀보며, 나만의 블로그 페이지 꾸며보기\n"
     ]
    }
   ],
   "source": [
    "res = requests.get('https://davelee-fun.github.io/blog/crawl_html_css.html')\n",
    "soup = BeautifulSoup(res.content, 'html.parser')\n",
    "link_titles = soup.select(\"ul#hobby_course_list > li\")\n",
    "data = list()\n",
    "for link_title in link_titles:\n",
    "    data.append(link_title.get_text())\n",
    "\n",
    "func1(data)"
   ]
  }
 ],
 "metadata": {
  "kernelspec": {
   "display_name": "ml_scratch",
   "language": "python",
   "name": "ml_scratch"
  },
  "language_info": {
   "codemirror_mode": {
    "name": "ipython",
    "version": 3
   },
   "file_extension": ".py",
   "mimetype": "text/x-python",
   "name": "python",
   "nbconvert_exporter": "python",
   "pygments_lexer": "ipython3",
   "version": "3.6.10"
  }
 },
 "nbformat": 4,
 "nbformat_minor": 4
}
